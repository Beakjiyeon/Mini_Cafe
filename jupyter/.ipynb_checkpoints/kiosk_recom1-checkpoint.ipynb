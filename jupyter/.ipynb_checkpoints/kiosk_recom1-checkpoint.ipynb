{
 "cells": [
  {
   "cell_type": "code",
   "execution_count": 3,
   "metadata": {},
   "outputs": [
    {
     "data": {
      "text/plain": [
       "<firebase_admin.App at 0x22ca44a6748>"
      ]
     },
     "execution_count": 3,
     "metadata": {},
     "output_type": "execute_result"
    }
   ],
   "source": [
    "import firebase_admin\n",
    "from firebase_admin import credentials\n",
    "from firebase_admin import firestore\n",
    "import pandas as pd\n",
    "\n",
    "cred = credentials.Certificate('kiosk-firestore-jnsy-bcfe4-firebase-adminsdk-269q4-4a795774bb.json')\n",
    "firebase_admin.initialize_app(cred)"
   ]
  },
  {
   "cell_type": "code",
   "execution_count": null,
   "metadata": {},
   "outputs": [],
   "source": [
    "#데이터 전처리까지.."
   ]
  },
  {
   "cell_type": "code",
   "execution_count": 4,
   "metadata": {},
   "outputs": [
    {
     "name": "stdout",
     "output_type": "stream",
     "text": [
      "{'anger': '10000000', 'contempt': '01000000', 'disgust': '00100000', 'fear': '00010000', 'happiness': '00001000', 'neutral': '00000100', 'sadness': '00000010', 'surprise': '00000001'}\n"
     ]
    }
   ],
   "source": [
    "# 감정 키워드는 원 핫 인코딩으로 데이터 전처리한다.\n",
    "#from sklearn.preprocessing import OneHotEncoder\n",
    "#일단은 첫번째감정+두번째감정 으로 저장하는데 가중치 고려할 방법 있었으면 좋겠다\n",
    "#이 방법은 순서를 중요시하고, or로 합하는 방법은 단순 평균!\n",
    "\n",
    "# 8가지 감정 키워드\n",
    "emotion_keyword = [\"anger\",\"contempt\",\"disgust\",\"fear\",\"happiness\",\"neutral\",\"sadness\",\"surprise\"]\n",
    "\n",
    "emotion_df = pd.DataFrame({ 'emotion_keyword':emotion_keyword })\n",
    "emotion_vec = pd.get_dummies(emotion_df).values\n",
    "#print(emotion_vec)\n",
    "\n",
    "emotion_keyword_to_vec = {}\n",
    "for index,keyword in enumerate(emotion_keyword):\n",
    "    emotion_keyword_to_vec[keyword] = ''.join(list(map(str,emotion_vec[index].tolist())))\n",
    "    \n",
    "print(emotion_keyword_to_vec)"
   ]
  },
  {
   "cell_type": "code",
   "execution_count": 12,
   "metadata": {},
   "outputs": [
    {
     "name": "stdout",
     "output_type": "stream",
     "text": [
      "[[1. 0. 0. 0. 0. 0. 0. 0.]\n",
      " [0. 1. 0. 0. 0. 0. 0. 0.]\n",
      " [0. 0. 1. 0. 0. 0. 0. 0.]\n",
      " [0. 0. 0. 1. 0. 0. 0. 0.]\n",
      " [0. 0. 0. 0. 1. 0. 0. 0.]\n",
      " [0. 0. 0. 0. 0. 1. 0. 0.]\n",
      " [0. 0. 0. 0. 0. 0. 1. 0.]\n",
      " [0. 0. 0. 0. 0. 0. 0. 1.]]\n",
      "<class 'numpy.ndarray'>\n"
     ]
    },
    {
     "name": "stderr",
     "output_type": "stream",
     "text": [
      "C:\\Users\\sisi\\Anaconda3\\lib\\site-packages\\sklearn\\preprocessing\\_encoders.py:415: FutureWarning: The handling of integer data will change in version 0.22. Currently, the categories are determined based on the range [0, max(values)], while in the future they will be determined based on the unique values.\n",
      "If you want the future behaviour and silence this warning, you can specify \"categories='auto'\".\n",
      "In case you used a LabelEncoder before this OneHotEncoder to convert the categories to integers, then you can now use the OneHotEncoder directly.\n",
      "  warnings.warn(msg, FutureWarning)\n"
     ]
    }
   ],
   "source": [
    "# 사이킷런 원 핫 인코딩 연습? (실패..)\n",
    "#from sklearn.preprocessing import OneHotEncoder,LabelEncoder\n",
    "#import numpy as np\n",
    "\n",
    "#emotion_keyword = [\"anger\",\"contempt\",\"disgust\",\"fear\",\"happiness\",\"neutral\",\"sadness\",\"surprise\"]\n",
    "\n",
    "#encoder = LabelEncoder()\n",
    "#encoder.fit(emotion_keyword)\n",
    "#labels = encoder.transform(emotion_keyword)\n",
    "#labels = labels.reshape(-1,1)\n",
    "\n",
    "#oh_encoder = OneHotEncoder()\n",
    "#oh_encoder.fit(labels)\n",
    "#oh_labels = oh_encoder.transform(labels)\n",
    "\n",
    "#print(oh_labels.toarray())\n",
    "#print(type(oh_labels.toarray()))\n"
   ]
  },
  {
   "cell_type": "code",
   "execution_count": 13,
   "metadata": {},
   "outputs": [
    {
     "ename": "TypeError",
     "evalue": "ufunc 'bitwise_or' not supported for the input types, and the inputs could not be safely coerced to any supported types according to the casting rule ''safe''",
     "output_type": "error",
     "traceback": [
      "\u001b[1;31m---------------------------------------------------------------------------\u001b[0m",
      "\u001b[1;31mTypeError\u001b[0m                                 Traceback (most recent call last)",
      "\u001b[1;32m<ipython-input-13-7098ec1fbd92>\u001b[0m in \u001b[0;36m<module>\u001b[1;34m\u001b[0m\n\u001b[1;32m----> 1\u001b[1;33m \u001b[0mprint\u001b[0m\u001b[1;33m(\u001b[0m\u001b[0moh_labels\u001b[0m\u001b[1;33m.\u001b[0m\u001b[0mtoarray\u001b[0m\u001b[1;33m(\u001b[0m\u001b[1;33m)\u001b[0m\u001b[1;33m[\u001b[0m\u001b[1;36m0\u001b[0m\u001b[1;33m]\u001b[0m\u001b[1;33m|\u001b[0m\u001b[0moh_labels\u001b[0m\u001b[1;33m.\u001b[0m\u001b[0mtoarray\u001b[0m\u001b[1;33m(\u001b[0m\u001b[1;33m)\u001b[0m\u001b[1;33m[\u001b[0m\u001b[1;36m1\u001b[0m\u001b[1;33m]\u001b[0m\u001b[1;33m)\u001b[0m\u001b[1;33m\u001b[0m\u001b[1;33m\u001b[0m\u001b[0m\n\u001b[0m",
      "\u001b[1;31mTypeError\u001b[0m: ufunc 'bitwise_or' not supported for the input types, and the inputs could not be safely coerced to any supported types according to the casting rule ''safe''"
     ]
    }
   ],
   "source": [
    "#print(oh_labels.toarray()[0]|oh_labels.toarray()[1])"
   ]
  },
  {
   "cell_type": "code",
   "execution_count": null,
   "metadata": {},
   "outputs": [],
   "source": []
  },
  {
   "cell_type": "code",
   "execution_count": 5,
   "metadata": {},
   "outputs": [],
   "source": [
    "docs = firestore.client().collection(u'order').stream() #get 사용하지 말란다\n",
    "\n",
    "doc_list = []\n",
    "for doc in docs:\n",
    "    #print(doc.get('emotion'))\n",
    "    #print(type(doc))\n",
    "    doc_list_row = []\n",
    "    # 메뉴 - 레이블\n",
    "    doc_list_row.append(doc.get('orderToString'))\n",
    " \n",
    "    # 날씨\n",
    "    weather_key_list = []\n",
    "    for key in doc.get('weather').keys():\n",
    "        #weather_key_list.append(doc.get('weather').get(key))\n",
    "        doc_list_row.append(doc.get('weather').get(key))\n",
    "    \n",
    "    # 감정\n",
    "    emotion_key_list = ''\n",
    "    for key in doc.get('emotion').keys():\n",
    "        #print(key)\n",
    "        emotion_key_list += emotion_keyword_to_vec.get(key)\n",
    "    doc_list_row.append(emotion_key_list)\n",
    "    \n",
    "    doc_list.append(doc_list_row)\n",
    "#print(doc_list)\n",
    "    "
   ]
  },
  {
   "cell_type": "code",
   "execution_count": 6,
   "metadata": {},
   "outputs": [
    {
     "data": {
      "text/html": [
       "<div>\n",
       "<style scoped>\n",
       "    .dataframe tbody tr th:only-of-type {\n",
       "        vertical-align: middle;\n",
       "    }\n",
       "\n",
       "    .dataframe tbody tr th {\n",
       "        vertical-align: top;\n",
       "    }\n",
       "\n",
       "    .dataframe thead th {\n",
       "        text-align: right;\n",
       "    }\n",
       "</style>\n",
       "<table border=\"1\" class=\"dataframe\">\n",
       "  <thead>\n",
       "    <tr style=\"text-align: right;\">\n",
       "      <th></th>\n",
       "      <th>item_name</th>\n",
       "      <th>w_humidity</th>\n",
       "      <th>w_temp</th>\n",
       "      <th>w_speed</th>\n",
       "      <th>emotion</th>\n",
       "    </tr>\n",
       "  </thead>\n",
       "  <tbody>\n",
       "    <tr>\n",
       "      <th>0</th>\n",
       "      <td>삼계탕/휘핑:0.0/샷:0.5/</td>\n",
       "      <td>79.0</td>\n",
       "      <td>304.51</td>\n",
       "      <td>1.5</td>\n",
       "      <td>0100000000000100</td>\n",
       "    </tr>\n",
       "    <tr>\n",
       "      <th>1</th>\n",
       "      <td>삼계탕/휘핑:0.0/샷:0.5/</td>\n",
       "      <td>79.0</td>\n",
       "      <td>304.51</td>\n",
       "      <td>1.5</td>\n",
       "      <td>0100000000000100</td>\n",
       "    </tr>\n",
       "    <tr>\n",
       "      <th>2</th>\n",
       "      <td>삼계탕/휘핑:0.0/샷:0.5/</td>\n",
       "      <td>79.0</td>\n",
       "      <td>304.51</td>\n",
       "      <td>1.5</td>\n",
       "      <td>0100000000000100</td>\n",
       "    </tr>\n",
       "    <tr>\n",
       "      <th>3</th>\n",
       "      <td>삼계탕/휘핑:0.0/샷:0.5/</td>\n",
       "      <td>79.0</td>\n",
       "      <td>304.51</td>\n",
       "      <td>1.5</td>\n",
       "      <td>0100000000000100</td>\n",
       "    </tr>\n",
       "    <tr>\n",
       "      <th>4</th>\n",
       "      <td>삼계탕/휘핑:0.0/샷:0.5/</td>\n",
       "      <td>79.0</td>\n",
       "      <td>304.51</td>\n",
       "      <td>1.5</td>\n",
       "      <td>0100000000000100</td>\n",
       "    </tr>\n",
       "    <tr>\n",
       "      <th>5</th>\n",
       "      <td>삼계탕/휘핑:0.0/샷:0.5/</td>\n",
       "      <td>79.0</td>\n",
       "      <td>304.51</td>\n",
       "      <td>1.5</td>\n",
       "      <td>0100000000000100</td>\n",
       "    </tr>\n",
       "    <tr>\n",
       "      <th>6</th>\n",
       "      <td>삼계탕/휘핑:0.0/샷:0.5/</td>\n",
       "      <td>79.0</td>\n",
       "      <td>304.51</td>\n",
       "      <td>1.5</td>\n",
       "      <td>0100000000000100</td>\n",
       "    </tr>\n",
       "    <tr>\n",
       "      <th>7</th>\n",
       "      <td>삼계탕/휘핑:0.0/샷:0.5/</td>\n",
       "      <td>79.0</td>\n",
       "      <td>304.51</td>\n",
       "      <td>1.5</td>\n",
       "      <td>0100000000000100</td>\n",
       "    </tr>\n",
       "    <tr>\n",
       "      <th>8</th>\n",
       "      <td>삼계탕/휘핑:0.0/샷:0.5/</td>\n",
       "      <td>79.0</td>\n",
       "      <td>304.51</td>\n",
       "      <td>1.5</td>\n",
       "      <td>0100000000000100</td>\n",
       "    </tr>\n",
       "    <tr>\n",
       "      <th>9</th>\n",
       "      <td>삼계탕/휘핑:0.0/샷:0.5/</td>\n",
       "      <td>79.0</td>\n",
       "      <td>304.51</td>\n",
       "      <td>1.5</td>\n",
       "      <td>0100000000000100</td>\n",
       "    </tr>\n",
       "    <tr>\n",
       "      <th>10</th>\n",
       "      <td>삼계탕/휘핑:0.0/샷:0.5/</td>\n",
       "      <td>79.0</td>\n",
       "      <td>304.51</td>\n",
       "      <td>1.5</td>\n",
       "      <td>0100000000000100</td>\n",
       "    </tr>\n",
       "  </tbody>\n",
       "</table>\n",
       "</div>"
      ],
      "text/plain": [
       "            item_name  w_humidity  w_temp  w_speed           emotion\n",
       "0   삼계탕/휘핑:0.0/샷:0.5/        79.0  304.51      1.5  0100000000000100\n",
       "1   삼계탕/휘핑:0.0/샷:0.5/        79.0  304.51      1.5  0100000000000100\n",
       "2   삼계탕/휘핑:0.0/샷:0.5/        79.0  304.51      1.5  0100000000000100\n",
       "3   삼계탕/휘핑:0.0/샷:0.5/        79.0  304.51      1.5  0100000000000100\n",
       "4   삼계탕/휘핑:0.0/샷:0.5/        79.0  304.51      1.5  0100000000000100\n",
       "5   삼계탕/휘핑:0.0/샷:0.5/        79.0  304.51      1.5  0100000000000100\n",
       "6   삼계탕/휘핑:0.0/샷:0.5/        79.0  304.51      1.5  0100000000000100\n",
       "7   삼계탕/휘핑:0.0/샷:0.5/        79.0  304.51      1.5  0100000000000100\n",
       "8   삼계탕/휘핑:0.0/샷:0.5/        79.0  304.51      1.5  0100000000000100\n",
       "9   삼계탕/휘핑:0.0/샷:0.5/        79.0  304.51      1.5  0100000000000100\n",
       "10  삼계탕/휘핑:0.0/샷:0.5/        79.0  304.51      1.5  0100000000000100"
      ]
     },
     "execution_count": 6,
     "metadata": {},
     "output_type": "execute_result"
    }
   ],
   "source": [
    "doc_df = pd.DataFrame(doc_list, columns=['item_name','w_humidity','w_temp','w_speed','emotion'])\n",
    "doc_df"
   ]
  },
  {
   "cell_type": "code",
   "execution_count": 7,
   "metadata": {},
   "outputs": [
    {
     "name": "stdout",
     "output_type": "stream",
     "text": [
      "11\n"
     ]
    },
    {
     "data": {
      "text/html": [
       "<div>\n",
       "<style scoped>\n",
       "    .dataframe tbody tr th:only-of-type {\n",
       "        vertical-align: middle;\n",
       "    }\n",
       "\n",
       "    .dataframe tbody tr th {\n",
       "        vertical-align: top;\n",
       "    }\n",
       "\n",
       "    .dataframe thead th {\n",
       "        text-align: right;\n",
       "    }\n",
       "</style>\n",
       "<table border=\"1\" class=\"dataframe\">\n",
       "  <thead>\n",
       "    <tr style=\"text-align: right;\">\n",
       "      <th></th>\n",
       "      <th>item_name</th>\n",
       "      <th>w_humidity</th>\n",
       "      <th>w_temp</th>\n",
       "      <th>w_speed</th>\n",
       "      <th>emotion</th>\n",
       "    </tr>\n",
       "  </thead>\n",
       "  <tbody>\n",
       "    <tr>\n",
       "      <th>0</th>\n",
       "      <td>1</td>\n",
       "      <td>79.0</td>\n",
       "      <td>304.51</td>\n",
       "      <td>1.5</td>\n",
       "      <td>0100000000000100</td>\n",
       "    </tr>\n",
       "    <tr>\n",
       "      <th>1</th>\n",
       "      <td>1</td>\n",
       "      <td>79.0</td>\n",
       "      <td>304.51</td>\n",
       "      <td>1.5</td>\n",
       "      <td>0100000000000100</td>\n",
       "    </tr>\n",
       "    <tr>\n",
       "      <th>2</th>\n",
       "      <td>1</td>\n",
       "      <td>79.0</td>\n",
       "      <td>304.51</td>\n",
       "      <td>1.5</td>\n",
       "      <td>0100000000000100</td>\n",
       "    </tr>\n",
       "    <tr>\n",
       "      <th>3</th>\n",
       "      <td>1</td>\n",
       "      <td>79.0</td>\n",
       "      <td>304.51</td>\n",
       "      <td>1.5</td>\n",
       "      <td>0100000000000100</td>\n",
       "    </tr>\n",
       "    <tr>\n",
       "      <th>4</th>\n",
       "      <td>1</td>\n",
       "      <td>79.0</td>\n",
       "      <td>304.51</td>\n",
       "      <td>1.5</td>\n",
       "      <td>0100000000000100</td>\n",
       "    </tr>\n",
       "    <tr>\n",
       "      <th>5</th>\n",
       "      <td>1</td>\n",
       "      <td>79.0</td>\n",
       "      <td>304.51</td>\n",
       "      <td>1.5</td>\n",
       "      <td>0100000000000100</td>\n",
       "    </tr>\n",
       "    <tr>\n",
       "      <th>6</th>\n",
       "      <td>1</td>\n",
       "      <td>79.0</td>\n",
       "      <td>304.51</td>\n",
       "      <td>1.5</td>\n",
       "      <td>0100000000000100</td>\n",
       "    </tr>\n",
       "    <tr>\n",
       "      <th>7</th>\n",
       "      <td>1</td>\n",
       "      <td>79.0</td>\n",
       "      <td>304.51</td>\n",
       "      <td>1.5</td>\n",
       "      <td>0100000000000100</td>\n",
       "    </tr>\n",
       "    <tr>\n",
       "      <th>8</th>\n",
       "      <td>1</td>\n",
       "      <td>79.0</td>\n",
       "      <td>304.51</td>\n",
       "      <td>1.5</td>\n",
       "      <td>0100000000000100</td>\n",
       "    </tr>\n",
       "    <tr>\n",
       "      <th>9</th>\n",
       "      <td>1</td>\n",
       "      <td>79.0</td>\n",
       "      <td>304.51</td>\n",
       "      <td>1.5</td>\n",
       "      <td>0100000000000100</td>\n",
       "    </tr>\n",
       "    <tr>\n",
       "      <th>10</th>\n",
       "      <td>1</td>\n",
       "      <td>79.0</td>\n",
       "      <td>304.51</td>\n",
       "      <td>1.5</td>\n",
       "      <td>0100000000000100</td>\n",
       "    </tr>\n",
       "  </tbody>\n",
       "</table>\n",
       "</div>"
      ],
      "text/plain": [
       "    item_name  w_humidity  w_temp  w_speed           emotion\n",
       "0           1        79.0  304.51      1.5  0100000000000100\n",
       "1           1        79.0  304.51      1.5  0100000000000100\n",
       "2           1        79.0  304.51      1.5  0100000000000100\n",
       "3           1        79.0  304.51      1.5  0100000000000100\n",
       "4           1        79.0  304.51      1.5  0100000000000100\n",
       "5           1        79.0  304.51      1.5  0100000000000100\n",
       "6           1        79.0  304.51      1.5  0100000000000100\n",
       "7           1        79.0  304.51      1.5  0100000000000100\n",
       "8           1        79.0  304.51      1.5  0100000000000100\n",
       "9           1        79.0  304.51      1.5  0100000000000100\n",
       "10          1        79.0  304.51      1.5  0100000000000100"
      ]
     },
     "execution_count": 7,
     "metadata": {},
     "output_type": "execute_result"
    }
   ],
   "source": [
    "#레이블도 원 핫 인코딩 ?\n",
    "#label_list = list(set(doc_df['item_name'].values.tolist()))\n",
    "label_list = doc_df['item_name'].values.tolist()\n",
    "print(len(label_list))\n",
    "label_df = pd.DataFrame({ 'label_vec':label_list })\n",
    "#emotion_vec = pd.get_dummies(label_df) #dataframe\n",
    "doc_df['item_name'] = pd.get_dummies(label_df) #one hot encoding으로 대체\n",
    "#emotion_vec = pd.get_dummies(label_df).values #ndarray\n",
    "#print(emotion_vec)\n",
    "doc_df"
   ]
  },
  {
   "cell_type": "code",
   "execution_count": 8,
   "metadata": {},
   "outputs": [
    {
     "data": {
      "text/plain": [
       "DecisionTreeClassifier(class_weight=None, criterion='gini', max_depth=None,\n",
       "                       max_features=None, max_leaf_nodes=None,\n",
       "                       min_impurity_decrease=0.0, min_impurity_split=None,\n",
       "                       min_samples_leaf=1, min_samples_split=2,\n",
       "                       min_weight_fraction_leaf=0.0, presort=False,\n",
       "                       random_state=None, splitter='best')"
      ]
     },
     "execution_count": 8,
     "metadata": {},
     "output_type": "execute_result"
    }
   ],
   "source": [
    "# 알고리즘: 결정 트리 (임시)\n",
    "from sklearn.tree import DecisionTreeClassifier\n",
    "from sklearn.model_selection import train_test_split\n",
    "#import warnings\n",
    "#warnings.filterwarnings('ignore')\n",
    "\n",
    "dt_clf = DecisionTreeClassifier()\n",
    "\n",
    "X_train,X_test,y_train,y_test = train_test_split(doc_df[['w_humidity','w_temp','w_speed','emotion']],\n",
    "                                                doc_df['item_name'], test_size=0.2)\n",
    "\n",
    "dt_clf.fit(X_train,y_train)"
   ]
  },
  {
   "cell_type": "code",
   "execution_count": 9,
   "metadata": {},
   "outputs": [],
   "source": [
    "#시각화 출력파일 생성\n",
    "from sklearn.tree import export_graphviz\n",
    "\n",
    "export_graphviz(dt_clf, out_file='tree.dot', class_names=['item_name'],\n",
    "               feature_names=['w_humidity','w_temp','w_speed','emotion'], impurity=True,filled=True)"
   ]
  },
  {
   "cell_type": "code",
   "execution_count": 10,
   "metadata": {},
   "outputs": [
    {
     "data": {
      "image/svg+xml": [
       "<?xml version=\"1.0\" encoding=\"UTF-8\" standalone=\"no\"?>\r\n",
       "<!DOCTYPE svg PUBLIC \"-//W3C//DTD SVG 1.1//EN\"\r\n",
       " \"http://www.w3.org/Graphics/SVG/1.1/DTD/svg11.dtd\">\r\n",
       "<!-- Generated by graphviz version 2.38.0 (20140413.2041)\r\n",
       " -->\r\n",
       "<!-- Title: Tree Pages: 1 -->\r\n",
       "<svg width=\"92pt\" height=\"61pt\"\r\n",
       " viewBox=\"0.00 0.00 92.00 61.00\" xmlns=\"http://www.w3.org/2000/svg\" xmlns:xlink=\"http://www.w3.org/1999/xlink\">\r\n",
       "<g id=\"graph0\" class=\"graph\" transform=\"scale(1 1) rotate(0) translate(4 57)\">\r\n",
       "<title>Tree</title>\r\n",
       "<polygon fill=\"white\" stroke=\"none\" points=\"-4,4 -4,-57 88,-57 88,4 -4,4\"/>\r\n",
       "<!-- 0 -->\r\n",
       "<g id=\"node1\" class=\"node\"><title>0</title>\r\n",
       "<polygon fill=\"#ffffff\" stroke=\"black\" points=\"84,-53 0,-53 0,-0 84,-0 84,-53\"/>\r\n",
       "<text text-anchor=\"middle\" x=\"42\" y=\"-37.8\" font-family=\"Times New Roman,serif\" font-size=\"14.00\">gini = 0.0</text>\r\n",
       "<text text-anchor=\"middle\" x=\"42\" y=\"-22.8\" font-family=\"Times New Roman,serif\" font-size=\"14.00\">samples = 8</text>\r\n",
       "<text text-anchor=\"middle\" x=\"42\" y=\"-7.8\" font-family=\"Times New Roman,serif\" font-size=\"14.00\">value = 8.0</text>\r\n",
       "</g>\r\n",
       "</g>\r\n",
       "</svg>\r\n"
      ],
      "text/plain": [
       "<graphviz.files.Source at 0x22ca2bb6b38>"
      ]
     },
     "execution_count": 10,
     "metadata": {},
     "output_type": "execute_result"
    }
   ],
   "source": [
    "import graphviz\n",
    "\n",
    "with open('tree.dot') as f:\n",
    "    dot_graph = f.read()\n",
    "    \n",
    "graphviz.Source(dot_graph)"
   ]
  },
  {
   "cell_type": "code",
   "execution_count": null,
   "metadata": {},
   "outputs": [],
   "source": []
  }
 ],
 "metadata": {
  "kernelspec": {
   "display_name": "Python 3",
   "language": "python",
   "name": "python3"
  },
  "language_info": {
   "codemirror_mode": {
    "name": "ipython",
    "version": 3
   },
   "file_extension": ".py",
   "mimetype": "text/x-python",
   "name": "python",
   "nbconvert_exporter": "python",
   "pygments_lexer": "ipython3",
   "version": "3.6.9"
  }
 },
 "nbformat": 4,
 "nbformat_minor": 2
}
