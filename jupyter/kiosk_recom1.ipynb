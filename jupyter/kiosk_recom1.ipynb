{
 "cells": [
  {
   "cell_type": "code",
   "execution_count": null,
   "metadata": {},
   "outputs": [],
   "source": [
    "import firebase_admin\n",
    "from firebase_admin import credentials\n",
    "from firebase_admin import firestore\n",
    "\n",
    "cred = credentials.Certificate('kiosk-firestore-jnsy-bcfe4-firebase-adminsdk-269q4-4a795774bb.json')\n",
    "firebase_admin.initialize_app(cred)"
   ]
  },
  {
   "cell_type": "code",
   "execution_count": null,
   "metadata": {},
   "outputs": [],
   "source": [
    "#데이터 전처리까지.."
   ]
  },
  {
   "cell_type": "code",
   "execution_count": null,
   "metadata": {},
   "outputs": [],
   "source": [
    "# 감정 키워드는 원 핫 인코딩으로 데이터 전처리한다.\n",
    "#from sklearn.preprocessing import OneHotEncoder\n",
    "#일단은 첫번째감정+두번째감정 으로 저장하는데 가중치 고려할 방법 있었으면 좋겠다\n",
    "#이 방법은 순서를 중요시하고, or로 합하는 방법은 단순 평균!\n",
    "\n",
    "# 8가지 감정 키워드\n",
    "emotion_keyword = [\"anger\",\"contempt\",\"disgust\",\"fear\",\"happiness\",\"neutral\",\"sadness\",\"surprise\"]\n",
    "\n",
    "emotion_df = pd.DataFrame({ 'emotion_keyword':emotion_keyword })\n",
    "emotion_vec = pd.get_dummies(emotion_df).values\n",
    "#print(emotion_vec)\n",
    "\n",
    "emotion_keyword_to_vec = {}\n",
    "for index,keyword in enumerate(emotion_keyword):\n",
    "    emotion_keyword_to_vec[keyword] = ''.join(list(map(str,emotion_vec[index].tolist())))\n",
    "    \n",
    "print(emotion_keyword_to_vec)"
   ]
  },
  {
   "cell_type": "code",
   "execution_count": null,
   "metadata": {},
   "outputs": [],
   "source": [
    "docs = firestore.client().collection(u'order').get()\n",
    "\n",
    "doc_list = []\n",
    "for doc in docs:\n",
    "    #print(doc.get('emotion'))\n",
    "    #print(type(doc))\n",
    "    doc_list_row = []\n",
    "    # 메뉴 - 레이블\n",
    "    doc_list_row.append(doc.get('orderToString'))\n",
    " \n",
    "    # 날씨\n",
    "    weather_key_list = []\n",
    "    for key in doc.get('weather').keys():\n",
    "        #weather_key_list.append(doc.get('weather').get(key))\n",
    "        doc_list_row.append(doc.get('weather').get(key))\n",
    "    \n",
    "    # 감정\n",
    "    emotion_key_list = ''\n",
    "    for key in doc.get('emotion').keys():\n",
    "        #print(key)\n",
    "        emotion_key_list += emotion_keyword_to_vec.get(key)\n",
    "    doc_list_row.append(emotion_key_list)\n",
    "    \n",
    "    doc_list.append(doc_list_row)\n",
    "#print(doc_list)\n",
    "    "
   ]
  },
  {
   "cell_type": "code",
   "execution_count": null,
   "metadata": {},
   "outputs": [],
   "source": [
    "doc_df = pd.DataFrame(doc_list, columns=['item_name','w_humidity','w_temp','w_speed','emotion'])\n",
    "doc_df"
   ]
  },
  {
   "cell_type": "code",
   "execution_count": null,
   "metadata": {},
   "outputs": [],
   "source": []
  },
  {
   "cell_type": "code",
   "execution_count": null,
   "metadata": {},
   "outputs": [],
   "source": []
  }
 ],
 "metadata": {
  "kernelspec": {
   "display_name": "Python 3",
   "language": "python",
   "name": "python3"
  },
  "language_info": {
   "codemirror_mode": {
    "name": "ipython",
    "version": 3
   },
   "file_extension": ".py",
   "mimetype": "text/x-python",
   "name": "python",
   "nbconvert_exporter": "python",
   "pygments_lexer": "ipython3",
   "version": "3.6.9"
  }
 },
 "nbformat": 4,
 "nbformat_minor": 2
}
